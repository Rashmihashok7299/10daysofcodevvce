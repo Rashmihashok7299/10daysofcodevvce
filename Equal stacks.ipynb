{
 "cells": [
  {
   "cell_type": "code",
   "execution_count": null,
   "metadata": {},
   "outputs": [],
   "source": [
    "def equalStacks(h1, h2, h3):\n",
    "    s1, s2, s3 = map(sum, (h1, h2, h3))\n",
    "    while h1 and h2 and h3:\n",
    "        m = min(s1, s2, s3)\n",
    "        while s1 > m: s1 -= h1.pop(0)\n",
    "        while s2 > m: s2 -= h2.pop(0)\n",
    "        while s3 > m: s3 -= h3.pop(0)\n",
    "        if s1 == s2 == s3: return s1\n",
    "    return 0\n",
    "\n",
    "if __name__ == '__main__':\n",
    "\n",
    "    n1N2N3 = input().split()\n",
    "\n",
    "    n1 = int(n1N2N3[0])\n",
    "\n",
    "    n2 = int(n1N2N3[1])\n",
    "\n",
    "    n3 = int(n1N2N3[2])\n",
    "\n",
    "    h1 = list(map(int, input().rstrip().split()))\n",
    "\n",
    "    h2 = list(map(int, input().rstrip().split()))\n",
    "\n",
    "    h3 = list(map(int, input().rstrip().split()))\n",
    "\n",
    "    result = equalStacks(h1, h2, h3)\n"
   ]
  }
 ],
 "metadata": {
  "kernelspec": {
   "display_name": "Python 3",
   "language": "python",
   "name": "python3"
  },
  "language_info": {
   "codemirror_mode": {
    "name": "ipython",
    "version": 3
   },
   "file_extension": ".py",
   "mimetype": "text/x-python",
   "name": "python",
   "nbconvert_exporter": "python",
   "pygments_lexer": "ipython3",
   "version": "3.7.3"
  }
 },
 "nbformat": 4,
 "nbformat_minor": 2
}
