{
 "cells": [
  {
   "cell_type": "code",
   "execution_count": 1,
   "metadata": {},
   "outputs": [
    {
     "name": "stdout",
     "output_type": "stream",
     "text": [
      "3\n",
      "1 2 3\n",
      "1\n",
      "3 4 2\n",
      "1\n",
      "4 -1 5\n",
      "4\n"
     ]
    }
   ],
   "source": [
    "def solve(a, b, x):\n",
    "    if(b==0):\n",
    "        print(\"1\")\n",
    "    elif(b>0):\n",
    "        j=(a**b)\n",
    "        k=j%x\n",
    "        print(k)\n",
    "    else:\n",
    "        k=(((a**-1)%x)**b)%x \n",
    "        print(int(k))\n",
    "    \n",
    "if __name__ == '__main__':\n",
    "    #fptr = open(os.environ['OUTPUT_PATH'], 'w')\n",
    "\n",
    "    t = int(input())\n",
    "\n",
    "    for t_itr in range(t):\n",
    "        abx = input().split()\n",
    "\n",
    "        a = int(abx[0])\n",
    "\n",
    "        b = int(abx[1])\n",
    "\n",
    "        x = int(abx[2])\n",
    "\n",
    "        result = solve(a, b, x)\n",
    "\n",
    "     #   fptr.write(str(result) + '\\n')\n",
    "\n",
    "    #fptr.close()"
   ]
  },
  {
   "cell_type": "code",
   "execution_count": null,
   "metadata": {},
   "outputs": [],
   "source": []
  }
 ],
 "metadata": {
  "kernelspec": {
   "display_name": "Python 3",
   "language": "python",
   "name": "python3"
  },
  "language_info": {
   "codemirror_mode": {
    "name": "ipython",
    "version": 3
   },
   "file_extension": ".py",
   "mimetype": "text/x-python",
   "name": "python",
   "nbconvert_exporter": "python",
   "pygments_lexer": "ipython3",
   "version": "3.7.3"
  }
 },
 "nbformat": 4,
 "nbformat_minor": 2
}
