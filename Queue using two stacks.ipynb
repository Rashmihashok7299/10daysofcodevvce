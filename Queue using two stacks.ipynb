{
 "cells": [
  {
   "cell_type": "code",
   "execution_count": null,
   "metadata": {},
   "outputs": [],
   "source": [
    "l1= []\n",
    "l2=[]\n",
    "for _ in range(int(input())):\n",
    "    val = list(map(int,input().split()))\n",
    "    if val[0] == 1:\n",
    "        if not l2 :                       # Row added\n",
    "            first = val[1]                   # Row added\n",
    "        l2.append(val[1])\n",
    "    elif val[0] == 2:\n",
    "        if not l1 :\n",
    "            while l2 : l1.append(l2.pop())\n",
    "        l1.pop()\n",
    "    else:\n",
    "        print(l1[-1] if l1 else first)\n"
   ]
  },
  {
   "cell_type": "code",
   "execution_count": null,
   "metadata": {},
   "outputs": [],
   "source": []
  }
 ],
 "metadata": {
  "kernelspec": {
   "display_name": "Python 3",
   "language": "python",
   "name": "python3"
  },
  "language_info": {
   "codemirror_mode": {
    "name": "ipython",
    "version": 3
   },
   "file_extension": ".py",
   "mimetype": "text/x-python",
   "name": "python",
   "nbconvert_exporter": "python",
   "pygments_lexer": "ipython3",
   "version": "3.7.3"
  }
 },
 "nbformat": 4,
 "nbformat_minor": 2
}
