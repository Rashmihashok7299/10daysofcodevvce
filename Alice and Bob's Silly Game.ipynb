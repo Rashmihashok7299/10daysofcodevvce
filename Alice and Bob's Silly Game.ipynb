{
 "cells": [
  {
   "cell_type": "code",
   "execution_count": 1,
   "metadata": {},
   "outputs": [
    {
     "name": "stdout",
     "output_type": "stream",
     "text": [
      "3\n",
      "1\n",
      "Bob\n",
      "2\n",
      "Alice\n",
      "5\n",
      "Alice\n"
     ]
    }
   ],
   "source": [
    "import os\n",
    "import sys\n",
    "\n",
    "#\n",
    "# Complete the sillyGame function below.\n",
    "#\n",
    "primes = [2]\n",
    "def isPrime(x):\n",
    "    for i in range(2, int(x ** .5) + 1):\n",
    "        if not x % i: return False\n",
    "    return True\n",
    "\n",
    "\n",
    "def sillyGame(n):\n",
    "    biggest_prime = primes[-1]\n",
    "    if n > biggest_prime:\n",
    "        for i in range(biggest_prime + 1, n + 1):\n",
    "            if isPrime(i): primes.append(i)\n",
    "    return 'Alice' if sum(i <= n for i in primes) % 2 else 'Bob'\n",
    "\n",
    "if __name__ == '__main__':\n",
    "    #fptr = open(os.environ['OUTPUT_PATH'], 'w')\n",
    "\n",
    "    g = int(input())\n",
    "\n",
    "    for g_itr in range(g):\n",
    "        n = int(input())\n",
    "\n",
    "        result = sillyGame(n)\n",
    "        print(result)"
   ]
  },
  {
   "cell_type": "code",
   "execution_count": null,
   "metadata": {},
   "outputs": [],
   "source": []
  }
 ],
 "metadata": {
  "kernelspec": {
   "display_name": "Python 3",
   "language": "python",
   "name": "python3"
  },
  "language_info": {
   "codemirror_mode": {
    "name": "ipython",
    "version": 3
   },
   "file_extension": ".py",
   "mimetype": "text/x-python",
   "name": "python",
   "nbconvert_exporter": "python",
   "pygments_lexer": "ipython3",
   "version": "3.7.3"
  }
 },
 "nbformat": 4,
 "nbformat_minor": 2
}
