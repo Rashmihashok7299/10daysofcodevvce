{
 "cells": [
  {
   "cell_type": "code",
   "execution_count": null,
   "metadata": {},
   "outputs": [],
   "source": [
    "class Node(object):\n",
    "    def __init__(self, data=None, next_node=None):\n",
    "        self.data = data\n",
    "        self.next = next_node\n",
    "       \n",
    "    def has_cycle(head):\n",
    "        t = head  \n",
    "        h = head  \n",
    "  \n",
    "        while True:  \n",
    "            if h == None or h.next == None: \n",
    "                return 0 \n",
    "            h = h.next.next\n",
    "        \n",
    "            t = t.next \n",
    "            if h == t:\n",
    "                return 1\n",
    "\n",
    "if __name__ == '__main__':\n",
    "    #fptr = open(os.environ['OUTPUT_PATH'], 'w')\n",
    "\n",
    "    tests = int(input())\n",
    "\n",
    "    for tests_itr in range(tests):\n",
    "        index = int(input())\n",
    "\n",
    "        llist_count = int(input())\n",
    "\n",
    "        llist = SinglyLinkedList()\n",
    "\n",
    "        for _ in range(llist_count):\n",
    "            llist_item = int(input())\n",
    "            llist.insert_node(llist_item)\n",
    "\n",
    "        extra = SinglyLinkedListNode(-1);\n",
    "        temp = llist.head;\n",
    "\n",
    "        for i in range(llist_count):\n",
    "            if i == index:\n",
    "                extra = temp\n",
    "\n",
    "            if i != llist_count-1:\n",
    "                temp = temp.next\n",
    "\n",
    "        temp.next = extra\n",
    "\n",
    "        result = has_cycle(llist.head)\n",
    "\n",
    "        #fptr.write(str(int(result)) + '\\n')\n",
    "\n",
    "    #fptr.close()"
   ]
  },
  {
   "cell_type": "code",
   "execution_count": null,
   "metadata": {},
   "outputs": [],
   "source": []
  }
 ],
 "metadata": {
  "kernelspec": {
   "display_name": "Python 3",
   "language": "python",
   "name": "python3"
  },
  "language_info": {
   "codemirror_mode": {
    "name": "ipython",
    "version": 3
   },
   "file_extension": ".py",
   "mimetype": "text/x-python",
   "name": "python",
   "nbconvert_exporter": "python",
   "pygments_lexer": "ipython3",
   "version": "3.7.3"
  }
 },
 "nbformat": 4,
 "nbformat_minor": 2
}
