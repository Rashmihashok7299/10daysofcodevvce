{
 "cells": [
  {
   "cell_type": "code",
   "execution_count": null,
   "metadata": {},
   "outputs": [],
   "source": [
    "import math\n",
    "import numpy as np\n",
    "\n",
    "def SS(x,y):\n",
    "    return (sum([i*j for (i,j) in zip(x,y)])-(sum(x)*sum(y))/len(x))\n",
    "\n",
    "def cp(x,y):\n",
    "    try:\n",
    "        cf = SS(x, y)/math.sqrt(abs(SS(x,x)*SS(y,y)))\n",
    "    except:\n",
    "        cf = 0\n",
    "    return cf\n",
    "\n",
    "def main():\n",
    "    t = int(input())\n",
    "    for i in range(t):\n",
    "        n = input()\n",
    "        cgpa = [float(a) for a in input().split()]\n",
    "        coeflist = []\n",
    "        for j in range(5):\n",
    "            marks = [float(x) for x in input().split()]\n",
    "            temp = cp(marks,cgpa)\n",
    "            coeflist.append(temp)\n",
    "        print(np.argmax(coeflist)+1)\n",
    "\n",
    "if(__name__==\"__main__\"):\n",
    "    main()"
   ]
  }
 ],
 "metadata": {
  "kernelspec": {
   "display_name": "Python 3",
   "language": "python",
   "name": "python3"
  },
  "language_info": {
   "codemirror_mode": {
    "name": "ipython",
    "version": 3
   },
   "file_extension": ".py",
   "mimetype": "text/x-python",
   "name": "python",
   "nbconvert_exporter": "python",
   "pygments_lexer": "ipython3",
   "version": "3.7.3"
  }
 },
 "nbformat": 4,
 "nbformat_minor": 2
}
